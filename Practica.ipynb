{
 "cells": [
  {
   "attachments": {},
   "cell_type": "markdown",
   "metadata": {},
   "source": [
    "# Adelantar Ejercicio"
   ]
  },
  {
   "cell_type": "code",
   "execution_count": null,
   "metadata": {},
   "outputs": [],
   "source": [
    "class Persona():\n",
    "    def __init__(self):\n",
    "        self.__nombre = \"\"\n",
    "        self.__cedula = \"\"\n",
    "        self.__genero = \"\"\n",
    "#Propiedades\n",
    "    # Setters\n",
    "    def asignarNombre(self,nombre):\n",
    "        self.__nombre = nombre\n",
    "    def asignarCedula(self,cedula):\n",
    "        self.__cedula = cedula\n",
    "    def asignarGenero(self,genero):\n",
    "        self.__genero = genero\n",
    "\n",
    "    # getters \n",
    "    def verNombre(self): \n",
    "        return self.__nombre\n",
    "    def verCedula(self):\n",
    "        return self.__cedula\n",
    "    def verGenero(self):\n",
    "        return self.__genero\n",
    "    #deleters\n",
    "    def borrarNombre(self):\n",
    "        del self.__nombre\n",
    "    def borrarCedula(self):\n",
    "        del self.__cedula\n",
    "    def borrarGenero(self):\n",
    "        del self.__genero\n",
    "        \n",
    "# Métodos adicionales segun la abstracción hecha \n",
    "    def caminar(self):        \n",
    "        print(input(\"ingrese direccion: \"))\n",
    "    def comer(self):\n",
    "        print(input(\"Ingrese la comida que desea: \"))\n",
    "\n",
    "class Paciente(Persona):\n",
    "    def __init__(self):\n",
    "        Persona.__init__(self)\n",
    "        self.__servicio = \"\"\n",
    "\n",
    "    def asignarServicio(self, servicio):\n",
    "        self.__servicio = servicio\n",
    "    def verServicio(self, servicio):\n",
    "        return self.__servicio\n",
    "\n",
    "class Empleado_Hospital(Persona):\n",
    "    def __init__(self):\n",
    "        Persona.__init__(self)\n",
    "        self.__turno = ''\n",
    "\n",
    "    def asignarTurno(self, turno):\n",
    "        self.__turno = turno\n",
    "\n",
    "    def verturno(self, turno):\n",
    "        return self.__turno\n",
    "\n",
    "class Enfermera(Empleado_Hospital):\n",
    "    def __init__(self):\n",
    "        # Empleado_Hospital.__init__(self) # Invocando el constructor de la clase padre de la cual esta heredando \n",
    "        super().__init__() # Este metodo hace exactamente lo mismo que le anterior, invocar el constructor de la clase padre \n",
    "        self.__rango = ''\n",
    "\n",
    "    def asignarRango(self, rango):\n",
    "        self.__rango = rango\n",
    "    def verRango(self, rango):\n",
    "        return self.__rango\n",
    "\n",
    "class Medico(Empleado_Hospital):\n",
    "    def __init__(self):\n",
    "        Empleado_Hospital.__init__(self)\n",
    "        \n",
    "        self.__especialidad = ''\n",
    "    \n",
    "    def asignarEspecialidad(self, especialidad):\n",
    "        self.__especialidad = ''\n",
    "    def verEspecialidad(self, especialidad):\n",
    "        return self.__especialidad\n",
    "\n",
    "p1 = Paciente()\n",
    "p2 = Paciente()\n",
    "# print(pacientes.verNombre())\n",
    "# pacientes.asignarNombre(\"Pepito\")\n",
    "# print(k * pacientes.verNombre())\n",
    "listaPaciente={}\n",
    "\n",
    "listaPaciente[123] = p1\n",
    "listaPaciente[234] = p2\n",
    "print(listaPaciente)\n",
    "\n",
    "# pacientes.asignarNombre('Juan José Trejo')\n",
    "# pacientes.asignarCedula(1085341857)\n",
    "# pacientes.asignarGenero('Masculino')\n",
    "# print(pacientes.verNombre())\n",
    "# print(pacientes.verCedula())\n",
    "# print(pacientes.verGenero())"
   ]
  },
  {
   "attachments": {},
   "cell_type": "markdown",
   "metadata": {},
   "source": [
    "## Ejercicio Practica"
   ]
  },
  {
   "cell_type": "code",
   "execution_count": 10,
   "metadata": {},
   "outputs": [],
   "source": [
    "class Persona:\n",
    "    def __init__(self):\n",
    "        self.edad=0\n",
    "        self.estatura=\"\"\n",
    "        self.nombre=\"\"\n",
    "        self.apellido=\"\"\n",
    "\n",
    "    def asignarnom(self,nom):\n",
    "        self.nombre=nom\n",
    "    "
   ]
  },
  {
   "cell_type": "code",
   "execution_count": 13,
   "metadata": {},
   "outputs": [
    {
     "name": "stdout",
     "output_type": "stream",
     "text": [
      "El nombre anterior es \n",
      "El nombre Nuevo es Esteban\n"
     ]
    }
   ],
   "source": [
    "b=Persona()\n",
    "nuevonom=input(\"Ingrese el nuevo nombre: \")\n",
    "print(f\"El nombre Anterior es {b.nombre}\")\n",
    "b.asignarnom(nuevonom)\n",
    "print(f\"El nombre Nuevo es {b.nombre}\")\n"
   ]
  }
 ],
 "metadata": {
  "kernelspec": {
   "display_name": "Python 3",
   "language": "python",
   "name": "python3"
  },
  "language_info": {
   "codemirror_mode": {
    "name": "ipython",
    "version": 3
   },
   "file_extension": ".py",
   "mimetype": "text/x-python",
   "name": "python",
   "nbconvert_exporter": "python",
   "pygments_lexer": "ipython3",
   "version": "3.11.0"
  },
  "orig_nbformat": 4,
  "vscode": {
   "interpreter": {
    "hash": "442367a78ad2513b796ad62e77bf8b114cdf9a8662c804798893dc403537c7f8"
   }
  }
 },
 "nbformat": 4,
 "nbformat_minor": 2
}
